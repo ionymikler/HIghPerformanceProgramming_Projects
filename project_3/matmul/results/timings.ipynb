{
 "cells": [
  {
   "cell_type": "markdown",
   "metadata": {},
   "source": [
    "# Timings plotting"
   ]
  },
  {
   "cell_type": "code",
   "execution_count": 2,
   "metadata": {},
   "outputs": [],
   "source": [
    "%matplotlib inline\n",
    "\n",
    "from typing import Dict\n",
    "import numpy as np\n",
    "import matplotlib.pyplot as plt\n",
    "from dataclasses import dataclass\n",
    "\n",
    "@dataclass\n",
    "class Results:\n",
    "    name: str\n",
    "    N: np.ndarray\n",
    "    comp_t: np.ndarray\n",
    "    offload_t: np.ndarray"
   ]
  },
  {
   "cell_type": "code",
   "execution_count": 3,
   "metadata": {},
   "outputs": [],
   "source": [
    "# Define IT_NUM as number of iterations for the results\n",
    "# The last line is results for N, mem_usage, mflops\n",
    "\n",
    "# get the time averages for each N\n",
    "# plot N vs time average for each iter\n",
    "\n",
    "# Getting the data\n",
    "names = [\n",
    "    \"mkn\",\n",
    "    \"mnk\",\n",
    "    \"blk\"\n",
    "]\n",
    "results_files = [\n",
    "    \"./timings/timing_mkn_offload.txt\",\n",
    "    \"./timings/timing_mnk_offload.txt\",\n",
    "    './timings/timing_blk_offload.txt'\n",
    "]\n",
    "IT_NUM = 10\n",
    "results_dict:Dict[str,Results]=dict()\n",
    "for name, file in zip(names,results_files):\n",
    "    data = np.loadtxt(file, delimiter=',')\n",
    "    res = Results(\n",
    "        name=name,\n",
    "        N = data[:,0],\n",
    "        comp_t=data[:,1],\n",
    "        offload_t=data[:,2]\n",
    "    )\n",
    "    results_dict[name] = res\n",
    "\n",
    "\n",
    "# Getting the averages for each N\n",
    "Ns = np.unique(results_dict['mkn'].N)\n",
    "\n",
    "mkn_indices = np.where(results_dict['mkn'].N == 100)[0]\n",
    "\n",
    "avg_dict:Dict[str,list]=dict()\n",
    "\n",
    "for name in names:\n",
    "    avg_dict[name] = [[],[]]\n",
    "    for N in Ns:\n",
    "        res = results_dict[name]\n",
    "        idxs = np.where(res.N == N)[0]\n",
    "        comp_avg = res.comp_t[idxs].mean()\n",
    "        dataoff_avg = res.offload_t[idxs].mean()\n",
    "        avg_dict[name][0].append(comp_avg)\n",
    "        avg_dict[name][1].append(dataoff_avg)\n",
    "        "
   ]
  },
  {
   "cell_type": "code",
   "execution_count": 4,
   "metadata": {},
   "outputs": [
    {
     "name": "stdout",
     "output_type": "stream",
     "text": [
      "[ 100.  200.  500. 1000. 2000. 3000. 4500. 5000.]\n"
     ]
    }
   ],
   "source": [
    "print(Ns)"
   ]
  },
  {
   "cell_type": "code",
   "execution_count": 1,
   "metadata": {},
   "outputs": [
    {
     "ename": "NameError",
     "evalue": "name 'plt' is not defined",
     "output_type": "error",
     "traceback": [
      "\u001b[0;31m---------------------------------------------------------------------------\u001b[0m",
      "\u001b[0;31mNameError\u001b[0m                                 Traceback (most recent call last)",
      "\u001b[0;32m/tmp/ipykernel_30037/219913661.py\u001b[0m in \u001b[0;36m<module>\u001b[0;34m\u001b[0m\n\u001b[0;32m----> 1\u001b[0;31m \u001b[0mplt\u001b[0m\u001b[0;34m.\u001b[0m\u001b[0mfigure\u001b[0m\u001b[0;34m(\u001b[0m\u001b[0;34m)\u001b[0m\u001b[0;34m\u001b[0m\u001b[0;34m\u001b[0m\u001b[0m\n\u001b[0m\u001b[1;32m      2\u001b[0m \u001b[0mplt\u001b[0m\u001b[0;34m.\u001b[0m\u001b[0mtitle\u001b[0m\u001b[0;34m(\u001b[0m\u001b[0;34m\"Comp times for different iterations of matmul\"\u001b[0m\u001b[0;34m)\u001b[0m\u001b[0;34m\u001b[0m\u001b[0;34m\u001b[0m\u001b[0m\n\u001b[1;32m      3\u001b[0m \u001b[0;32mfor\u001b[0m \u001b[0mname\u001b[0m\u001b[0;34m,\u001b[0m \u001b[0mres\u001b[0m \u001b[0;32min\u001b[0m \u001b[0mavg_dict\u001b[0m\u001b[0;34m.\u001b[0m\u001b[0mitems\u001b[0m\u001b[0;34m(\u001b[0m\u001b[0;34m)\u001b[0m\u001b[0;34m:\u001b[0m\u001b[0;34m\u001b[0m\u001b[0;34m\u001b[0m\u001b[0m\n\u001b[1;32m      4\u001b[0m     \u001b[0mplt\u001b[0m\u001b[0;34m.\u001b[0m\u001b[0mplot\u001b[0m\u001b[0;34m(\u001b[0m\u001b[0mNs\u001b[0m\u001b[0;34m,\u001b[0m \u001b[0mres\u001b[0m\u001b[0;34m[\u001b[0m\u001b[0;36m0\u001b[0m\u001b[0;34m]\u001b[0m\u001b[0;34m,\u001b[0m\u001b[0;34m\"--x\"\u001b[0m\u001b[0;34m,\u001b[0m\u001b[0mlabel\u001b[0m\u001b[0;34m=\u001b[0m\u001b[0;34mf\"{name}_comp_time\"\u001b[0m\u001b[0;34m)\u001b[0m\u001b[0;34m\u001b[0m\u001b[0;34m\u001b[0m\u001b[0m\n\u001b[1;32m      5\u001b[0m \u001b[0;32mfor\u001b[0m \u001b[0mname\u001b[0m\u001b[0;34m,\u001b[0m \u001b[0mres\u001b[0m \u001b[0;32min\u001b[0m \u001b[0mavg_dict\u001b[0m\u001b[0;34m.\u001b[0m\u001b[0mitems\u001b[0m\u001b[0;34m(\u001b[0m\u001b[0;34m)\u001b[0m\u001b[0;34m:\u001b[0m\u001b[0;34m\u001b[0m\u001b[0;34m\u001b[0m\u001b[0m\n",
      "\u001b[0;31mNameError\u001b[0m: name 'plt' is not defined"
     ]
    }
   ],
   "source": [
    "plt.figure()\n",
    "plt.title(\"Comp times for different iterations of matmul\")\n",
    "for name, res in avg_dict.items():\n",
    "    plt.plot(Ns, res[0],\"--x\",label=f\"{name}_comp_time\")\n",
    "for name, res in avg_dict.items():\n",
    "    plt.plot(Ns, res[1],\"--o\",label=f\"{name}_offload_time\")\n",
    "\n",
    "plt.legend()\n",
    "\n",
    "# log scale for Y axis\n",
    "plt.yscale('log', base=10)\n",
    "\n",
    "# make the ticks on an angle\n",
    "plt.xticks(rotation=45)\n",
    "\n",
    "plt.xlabel('Matrix size (N)')\n",
    "plt.ylabel('Wall time')\n",
    "\n",
    "# plt.savefig(\"timings\")\n",
    "plt.show()\n",
    "\n",
    "\n",
    "\n"
   ]
  }
 ],
 "metadata": {
  "kernelspec": {
   "display_name": "venv",
   "language": "python",
   "name": "python3"
  },
  "language_info": {
   "codemirror_mode": {
    "name": "ipython",
    "version": 3
   },
   "file_extension": ".py",
   "mimetype": "text/x-python",
   "name": "python",
   "nbconvert_exporter": "python",
   "pygments_lexer": "ipython3",
   "version": "3.7.12"
  }
 },
 "nbformat": 4,
 "nbformat_minor": 2
}
