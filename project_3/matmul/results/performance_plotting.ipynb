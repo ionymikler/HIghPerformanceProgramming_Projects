{
 "cells": [
  {
   "cell_type": "markdown",
   "metadata": {},
   "source": [
    "# Memory Calculations"
   ]
  },
  {
   "cell_type": "code",
   "execution_count": null,
   "metadata": {},
   "outputs": [],
   "source": [
    "import math\n",
    "def mem_from_N(N):\n",
    "    \"Return the memory footprint of 3 Matrices of size N, in KiloBytes\"\n",
    "    return 3*(N**2)*8/1e3 # in KB\n",
    "\n",
    "def N_from_mem(mem_kb):\n",
    "    \"returns the side lenght of a square matrix for a given memory footprint in KiloBytes\"\n",
    "    N = math.sqrt(mem_kb*1e3/(3*8))"
   ]
  },
  {
   "cell_type": "markdown",
   "metadata": {},
   "source": [
    "# Results plotting"
   ]
  },
  {
   "cell_type": "code",
   "execution_count": null,
   "metadata": {},
   "outputs": [],
   "source": [
    "%matplotlib inline\n",
    "\n",
    "from typing import Dict\n",
    "import numpy as np\n",
    "import matplotlib.pyplot as plt\n",
    "from dataclasses import dataclass"
   ]
  },
  {
   "cell_type": "code",
   "execution_count": null,
   "metadata": {},
   "outputs": [],
   "source": [
    "@dataclass\n",
    "class Results:\n",
    "    name: str\n",
    "    N: np.ndarray\n",
    "    mem_usage: np.ndarray\n",
    "    mflops: np.ndarray"
   ]
  },
  {
   "cell_type": "code",
   "execution_count": null,
   "metadata": {},
   "outputs": [],
   "source": [
    "# read data\n",
    "# results_dir='results/'\n",
    "ths = [8,16,24]\n",
    "type = \"blk_offload\"\n",
    "cache_levels = [ # in kB\n",
    "    2000, # L1 \n",
    "    67_108,# L2 \n",
    "    537_870 # L3\n",
    "    ]\n",
    "\n",
    "results_dict:Dict[str,Results] = dict()\n",
    "# # NOTE: format;= N mem_usage MFlops/s\n",
    "# for th in ths:\n",
    "#     th_data = np.loadtxt(f\"./results/{type}/{type}_{th}.txt\")\n",
    "#     results_dict[th] = Results(\n",
    "#         name = th,\n",
    "#         N=th_data[:,0],\n",
    "#         mem_usage=th_data[:,1],\n",
    "#         mflops=th_data[:,2]\n",
    "#     )\n",
    "\n",
    "th_data = np.loadtxt(f\"./{type}/{type}.txt\")\n",
    "results = Results(\n",
    "    \n",
    ")"
   ]
  },
  {
   "cell_type": "code",
   "execution_count": null,
   "metadata": {},
   "outputs": [],
   "source": [
    "plt.figure()\n",
    "plt.title(\"Performance of mkn_omp for different thread count\")\n",
    "for th, res in results_dict.items():\n",
    "    plt.plot(res.mem_usage, res.mflops,\"-x\",label=res.name)\n",
    "\n",
    "plt.legend()\n",
    "\n",
    "# log scale for X axis\n",
    "plt.xscale('log', base=2)\n",
    "plt.gca().xaxis.set_major_formatter(plt.ScalarFormatter())\n",
    "plt.locator_params(axis='x', numticks=13)\n",
    "\n",
    "for cache_level in cache_levels:\n",
    "    plt.axvline(cache_level, color='k', linestyle='--')\n",
    "\n",
    "# make the ticks on an angle\n",
    "plt.xticks(rotation=45)\n",
    "\n",
    "plt.xlabel('Memory footprint [kB]')\n",
    "plt.ylabel('Total Mflop/s')\n",
    "\n",
    "# set y-axis lower limit to 0\n",
    "plt.ylim(bottom=100)\n",
    "\n",
    "# plt.savefig(\"benchmark\")\n",
    "plt.show()\n",
    "\n",
    "\n",
    "\n"
   ]
  }
 ],
 "metadata": {
  "kernelspec": {
   "display_name": "venv",
   "language": "python",
   "name": "python3"
  },
  "language_info": {
   "codemirror_mode": {
    "name": "ipython",
    "version": 3
   },
   "file_extension": ".py",
   "mimetype": "text/x-python",
   "name": "python",
   "nbconvert_exporter": "python",
   "pygments_lexer": "ipython3",
   "version": "3.7.12"
  }
 },
 "nbformat": 4,
 "nbformat_minor": 2
}
