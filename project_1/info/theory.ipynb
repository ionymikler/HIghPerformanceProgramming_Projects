{
 "cells": [
  {
   "cell_type": "code",
   "execution_count": 3,
   "metadata": {},
   "outputs": [
    {
     "name": "stdout",
     "output_type": "stream",
     "text": [
      "size of each matrix: 1131.0025051549032\n"
     ]
    }
   ],
   "source": [
    "import math\n",
    "\n",
    "# mem = 8*m*n or m**2 in squared matrix\n",
    "\n",
    "mem = 32_000\n",
    "mem = 256_000\n",
    "mem = 30_700_000\n",
    "\n",
    "mem /= 8 # 8 bit per byte\n",
    "m = math.sqrt(mem/3) # three matrices\n",
    "\n",
    "print(f\"size of each matrix: {m}\")"
   ]
  }
 ],
 "metadata": {
  "kernelspec": {
   "display_name": "motiondiffuse",
   "language": "python",
   "name": "python3"
  },
  "language_info": {
   "codemirror_mode": {
    "name": "ipython",
    "version": 3
   },
   "file_extension": ".py",
   "mimetype": "text/x-python",
   "name": "python",
   "nbconvert_exporter": "python",
   "pygments_lexer": "ipython3",
   "version": "3.7.12"
  }
 },
 "nbformat": 4,
 "nbformat_minor": 2
}
